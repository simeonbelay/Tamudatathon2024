{
 "cells": [
  {
   "cell_type": "code",
   "execution_count": 2,
   "metadata": {},
   "outputs": [],
   "source": [
    "import  pandas as pd\n",
    "import json\n"
   ]
  },
  {
   "cell_type": "code",
   "execution_count": 6,
   "metadata": {},
   "outputs": [],
   "source": [
    "import json\n",
    "import pandas as pd\n",
    "\n",
    "# Load data from the JSON file\n",
    "with open('sample_data.json', 'r') as f:\n",
    "    data = json.load(f)\n",
    "\n",
    "\n",
    "final_data = []\n",
    "# Initialize lists to hold the prompts and outputs for each group set\n",
    "prompts = []\n",
    "outputs = []\n",
    "\n",
    "# Process each list of groups in the data\n",
    "for group_set in data:\n",
    "    # Collect all words in the group set to form the prompt\n",
    "    all_words = [word for group in group_set for word in group[\"words\"]]\n",
    "    # Sort and join all words to form a single prompt string\n",
    "    prompt = \", \".join(sorted(all_words))\n",
    "    \n",
    "    # Format each group within the group set\n",
    "    formatted_groups = []\n",
    "    for group in group_set:\n",
    "        # Sort the words within each group and join them with commas\n",
    "        sorted_words = \", \".join(sorted(group[\"words\"]))\n",
    "        # Create a formatted string with the category and the sorted words\n",
    "        formatted_group = f\"{group['category'].lower()}: {sorted_words}\"\n",
    "        formatted_groups.append(formatted_group)\n",
    "    \n",
    "    # Join all formatted groups with ' | ' to create the output\n",
    "    output = \" | \".join(sorted(formatted_groups))\n",
    "    \n",
    "    # Append the prompt and output to their respective lists\n",
    "    final_data.append({'prompt': prompt, 'output': output})\n",
    "\n",
    "\n",
    "f.close()\n",
    "# Create a DataFrame with the prompts and outputs\n",
    "df = pd.DataFrame({'prompt': prompts, 'output': outputs})\n",
    "\n",
    "# Display the DataFrame\n",
    "df.to_csv('sample_df.csv')\n",
    "\n"
   ]
  },
  {
   "cell_type": "code",
   "execution_count": 7,
   "metadata": {},
   "outputs": [],
   "source": [
    "prompts = []\n",
    "outputs = []\n",
    "final_data = []\n",
    "\n",
    "with open('Dataset.jsonl', 'r') as f:\n",
    "    for entry in f:\n",
    "        entry = json.loads(entry)\n",
    "        # Remove extra newlines and spaces in the prompt formatting\n",
    "        prompt = f\"{', '.join(sorted(entry['words']))}\"\n",
    "        \n",
    "\n",
    "        output = entry['solution']['groups'][0]['reason'] + ': ' + (' ').join(entry['solution']['groups'][0]['words'])\n",
    "        # Extract and format the output groups from the solution\n",
    "        # formatted_groups = []\n",
    "        # for group in entry[\"solution\"][\"groups\"]:\n",
    "        #     # Sort the words within each group and join them with commas\n",
    "        #     sorted_words = \", \".join(sorted(word.upper() for word in group[\"words\"]))\n",
    "        #     # Create a formatted string with the category (reason) and the sorted words\n",
    "        #     formatted_group = f\"{group['reason'].lower()}: {sorted_words}\"\n",
    "        #     formatted_groups.append(formatted_group)\n",
    "            \n",
    "        # # Join all formatted groups with ' | ' to create the output\n",
    "        # output = \" | \".join(sorted(formatted_groups))\n",
    "        \n",
    "        # Append the prompt and output to the lists\n",
    "        final_data.append({'prompt': prompt, 'output': output})\n",
    "\n",
    "# Create a DataFrame with the new prompts and outputs\n",
    "new_df = pd.DataFrame({'prompt': prompts, 'output': outputs})\n",
    "\n",
    "# Combine the new DataFrame with the existing DataFrame\n",
    "combined_df = pd.concat([df, new_df], ignore_index=True)\n",
    "\n",
    "# Save to CSV\n",
    "combined_df.to_csv('sample_df.csv')\n",
    "\n",
    "# Write the JSONL data to files\n",
    "with open('retinkered_data_test.jsonl', 'w') as outtest:\n",
    "    for entry in final_data[250:]:\n",
    "        json.dump(entry, outtest)\n",
    "        outtest.write('\\n')\n",
    "\n",
    "with open('retinkered_data_train.jsonl', 'w') as outfile:\n",
    "    for entry in final_data[:250]:\n",
    "        json.dump(entry, outfile)\n",
    "        outfile.write('\\n')"
   ]
  },
  {
   "cell_type": "code",
   "execution_count": 8,
   "metadata": {},
   "outputs": [
    {
     "name": "stdout",
     "output_type": "stream",
     "text": [
      "353\n"
     ]
    }
   ],
   "source": [
    "print(len(final_data))"
   ]
  },
  {
   "cell_type": "code",
   "execution_count": null,
   "metadata": {},
   "outputs": [],
   "source": []
  }
 ],
 "metadata": {
  "kernelspec": {
   "display_name": ".venv",
   "language": "python",
   "name": "python3"
  },
  "language_info": {
   "codemirror_mode": {
    "name": "ipython",
    "version": 3
   },
   "file_extension": ".py",
   "mimetype": "text/x-python",
   "name": "python",
   "nbconvert_exporter": "python",
   "pygments_lexer": "ipython3",
   "version": "3.12.7"
  },
  "orig_nbformat": 4
 },
 "nbformat": 4,
 "nbformat_minor": 2
}
